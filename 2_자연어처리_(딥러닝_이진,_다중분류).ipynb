{
  "nbformat": 4,
  "nbformat_minor": 0,
  "metadata": {
    "colab": {
      "name": "2. 자연어처리 (딥러닝 이진, 다중분류)",
      "provenance": [],
      "collapsed_sections": [],
      "authorship_tag": "ABX9TyPrl9KVvd/GVr6OPUcgjyM0",
      "include_colab_link": true
    },
    "kernelspec": {
      "name": "python3",
      "display_name": "Python 3"
    },
    "language_info": {
      "name": "python"
    }
  },
  "cells": [
    {
      "cell_type": "markdown",
      "metadata": {
        "id": "view-in-github",
        "colab_type": "text"
      },
      "source": [
        "<a href=\"https://colab.research.google.com/github/Jung-ha1/220302_github_io/blob/main/2_%EC%9E%90%EC%97%B0%EC%96%B4%EC%B2%98%EB%A6%AC_(%EB%94%A5%EB%9F%AC%EB%8B%9D_%EC%9D%B4%EC%A7%84%2C_%EB%8B%A4%EC%A4%91%EB%B6%84%EB%A5%98).ipynb\" target=\"_parent\"><img src=\"https://colab.research.google.com/assets/colab-badge.svg\" alt=\"Open In Colab\"/></a>"
      ]
    },
    {
      "cell_type": "markdown",
      "source": [
        "#1. 딥러닝 이해"
      ],
      "metadata": {
        "id": "hpn791ktHjDi"
      }
    },
    {
      "cell_type": "code",
      "source": [
        "# MNIST data loading from Keras\n",
        "from keras.datasets import mnist\n",
        "(train_images, train_labels), (test_images, test_labels) = mnist.load_data()\n",
        "#    독립           종속          독립          종속\n",
        "\n",
        "# 행, 가로, 세로 -> 3차원\n",
        "print(train_images.shape)    # (60000, 28, 28)\n",
        "print(test_images.shape)     # (10000, 28, 28)"
      ],
      "metadata": {
        "colab": {
          "base_uri": "https://localhost:8080/"
        },
        "id": "VoY6PGMzqEdZ",
        "outputId": "b303ec0e-aad6-4a45-8a34-a5531529d173"
      },
      "execution_count": null,
      "outputs": [
        {
          "output_type": "stream",
          "name": "stdout",
          "text": [
            "(60000, 28, 28)\n",
            "(10000, 28, 28)\n"
          ]
        }
      ]
    },
    {
      "cell_type": "code",
      "source": [
        "# 출력 설정\n",
        "\n",
        "print(test_images[1])\n",
        "print(type(test_images))"
      ],
      "metadata": {
        "id": "ntseQTFGqEfi"
      },
      "execution_count": null,
      "outputs": []
    },
    {
      "cell_type": "code",
      "source": [
        "import numpy as np\n",
        "np.set_printoptions(linewidth=np.inf)   # linewidth : 한줄에 출력될 문자의 최대 수\n",
        "\n",
        "# 재출력\n",
        "print(test_images[1])\n",
        "\n",
        "# 그래프 출력\n",
        "import matplotlib.pyplot as plt\n",
        "plt.imshow(test_images[1])"
      ],
      "metadata": {
        "id": "-PKg_enXqEiG"
      },
      "execution_count": null,
      "outputs": []
    },
    {
      "cell_type": "code",
      "source": [
        "print(test_images)"
      ],
      "metadata": {
        "id": "HNFaKIQFpUkH"
      },
      "execution_count": null,
      "outputs": []
    },
    {
      "cell_type": "code",
      "source": [
        "# 데이터 슬라이싱\n",
        "\n",
        "my_slice = test_images[0:100]   # 특정 구간 데이터 가져옴. 여기선 0~99까지 가져온다.\n",
        "print(my_slice)   # 100, 28, 28\n",
        "\n",
        "# 3차원 데이터이므로, 위의 코드는 다음과 동일\n",
        "my_slice = test_images[0:100, 0:28, 0:28]\n",
        "my_slice = test_images[0:100, :, :]"
      ],
      "metadata": {
        "id": "AkxazTbXwG4z"
      },
      "execution_count": null,
      "outputs": []
    },
    {
      "cell_type": "code",
      "source": [
        "# Label 정보 출력\n",
        "\n",
        "print(len(train_labels))     # 60,000\n",
        "print(len(test_labels))      # 10,000\n",
        "\n",
        "# 0~9까지의 숫자를 가지고 있다.\n",
        "print(train_labels)\n",
        "print(test_labels)"
      ],
      "metadata": {
        "colab": {
          "base_uri": "https://localhost:8080/"
        },
        "id": "AQm06Xg4wG73",
        "outputId": "4ab182ca-9d49-4de3-82dc-4a70c5cd71f9"
      },
      "execution_count": null,
      "outputs": [
        {
          "output_type": "stream",
          "name": "stdout",
          "text": [
            "60000\n",
            "10000\n",
            "[5 0 4 ... 5 6 8]\n",
            "[7 2 1 ... 4 5 6]\n"
          ]
        }
      ]
    },
    {
      "cell_type": "code",
      "source": [
        "# Layer 쌓기\n",
        "\n",
        "from keras import models, layers\n",
        "\n",
        "model = models.Sequential()    # 모델 초기화\n",
        "\n",
        "# 은닉층 설정\n",
        "model.add(layers.Dense(256, activation='relu', input_shape=(28*28,)))\n",
        "\n",
        "# 출력층 설정\n",
        "model.add(layers.Dense(10, activation='softmax'))"
      ],
      "metadata": {
        "id": "Q7fObnVDwG-w"
      },
      "execution_count": null,
      "outputs": []
    },
    {
      "cell_type": "markdown",
      "source": [
        "은닉층 설정\n",
        "\n",
        "3차원 데이터 2차원으로 변형 -> input_shape( , ). 값을 2차원이 아닌 3차원으로도 가능하지만 문제가 생길 수 있다.\n",
        "\n",
        "relu : 값이 음수이면 0, 양수이면 해당 값을 출력한다. -> 음수는 딱히 필요한 값이 아니기 때문이다. (참고로 relu는 발산함)\n",
        "\n",
        "Dense : 가중치 선을 몇개 drop해주는데, 과적합을 줄이기 위해서이다.\n",
        "\n",
        "\n",
        "---\n",
        "\n",
        "\n",
        "출력층 설정\n",
        "\n",
        "10 : 출력될 값. (여기서는 숫자 범위가 0~9까지임)\n",
        "\n",
        "softmax : 확률값을 출력하며, 0~1사이의 값으로 몯 졍규화한다. 총합은 항상 1이다. (= sigmoid 함수도 동일)"
      ],
      "metadata": {
        "id": "Ibjp0FU65LRh"
      }
    },
    {
      "cell_type": "code",
      "source": [
        "# Compile model\n",
        "\n",
        "model.compile(loss='categorical_crossentropy', optimizer='rmsprop', metrics=['accuracy'])"
      ],
      "metadata": {
        "id": "19yl3muBwHAn"
      },
      "execution_count": null,
      "outputs": []
    },
    {
      "cell_type": "markdown",
      "source": [
        "loss : 훈련데이터에서 신경망의 성능을 측정하는 손실 함수\n",
        "\n",
        "categorical_crossentropy : 다중분류 (binary_'' : 이진분류)\n",
        "\n",
        "optimizer : 입력된 데이터와 손실함수 기반으로 가중치를 업데이트 하는 방법(가중치 얼마나 올릴거니?)\n",
        "\n",
        "metrics : 훈련과 테스트 과정을 모니터링할 지표. 'acc'라고도 씀."
      ],
      "metadata": {
        "id": "STVQLuOkEX3k"
      }
    },
    {
      "cell_type": "code",
      "source": [
        "# 데이터 전처리 전\n",
        "\n",
        "print(test_images[1,])\n",
        "\n",
        "# 현재 데이터는 3차원이면서, 0~255사이의 숫자(색 번호)로 되어있음.\n",
        "# 이를 2차원(60000, 28*28)으로 변환하고, 값이 0~1로 되도록 255로 나눔 -> 데이터 변환"
      ],
      "metadata": {
        "id": "k_NRt-otGHnV"
      },
      "execution_count": null,
      "outputs": []
    },
    {
      "cell_type": "code",
      "source": [
        "# 데이터 변환\n",
        "train_images = train_images.reshape((60000, 28*28))   # reshape : 차원 강제 변환 (여기서는 3->2차원으로 변경)\n",
        "train_images = train_images.astype('float32') / 255   # 255로 나누어 0~1사이 값 가질 수 있게 함\n",
        "\n",
        "test_images = test_images.reshape((10000, 28*28))\n",
        "test_images = test_images.astype('float32') / 255"
      ],
      "metadata": {
        "id": "ziD8T_BqGIRc"
      },
      "execution_count": null,
      "outputs": []
    },
    {
      "cell_type": "code",
      "source": [
        "train_images"
      ],
      "metadata": {
        "id": "L_WaSdE2UupD"
      },
      "execution_count": null,
      "outputs": []
    },
    {
      "cell_type": "code",
      "source": [
        "# 데이터 전처리 후\n",
        "\n",
        "np.set_printoptions(linewidth=310)\n",
        "print(test_images[1])"
      ],
      "metadata": {
        "id": "k90SkDycGIUB"
      },
      "execution_count": null,
      "outputs": []
    },
    {
      "cell_type": "code",
      "source": [
        "# 종속변수의 원-핫 인코딩\n",
        "\n",
        "from tensorflow.keras.utils import to_categorical\n",
        "\n",
        "# to_categorical : 1차원 배열을 2차원 배열로 바꿔줌\n",
        "train_labels = to_categorical(train_labels)     # [5 0 4 ...] -> [[0,0,0,0,0,1,0,0,0,0], ...]\n",
        "test_labels = to_categorical(test_labels)       # [7 2 1 ...] -> [[0,0,0,0,0,0,0,1,0,0], ...]\n",
        "\n",
        "print(train_labels)\n",
        "print(test_labels)"
      ],
      "metadata": {
        "id": "ktrNxZjiGIWb"
      },
      "execution_count": null,
      "outputs": []
    },
    {
      "cell_type": "code",
      "source": [
        "train_labels\n"
      ],
      "metadata": {
        "colab": {
          "base_uri": "https://localhost:8080/"
        },
        "id": "aWToF34ZUQVt",
        "outputId": "bd9c34ef-924f-4239-a5dc-f8459564fcd3"
      },
      "execution_count": null,
      "outputs": [
        {
          "output_type": "execute_result",
          "data": {
            "text/plain": [
              "array([[0., 0., 0., ..., 0., 0., 0.],\n",
              "       [1., 0., 0., ..., 0., 0., 0.],\n",
              "       [0., 0., 0., ..., 0., 0., 0.],\n",
              "       ...,\n",
              "       [0., 0., 0., ..., 0., 0., 0.],\n",
              "       [0., 0., 0., ..., 0., 0., 0.],\n",
              "       [0., 0., 0., ..., 0., 1., 0.]], dtype=float32)"
            ]
          },
          "metadata": {},
          "execution_count": 15
        }
      ]
    },
    {
      "cell_type": "markdown",
      "source": [
        "종속변수를 원-핫 인코딩 한 이유 : 1이 있는 곳이 해당 값일 확률이 높다.\n",
        "\n",
        "ex) 7 -> [0 0 0 0 0 0 0 0 1 0 0]  *** 10개의 원소 중 하나만 1이다.\n",
        "\n",
        "확률 : [7] : 0.7, [8] : 0.01, [9] : 0.01\n",
        "\n",
        "-> 확률이 어떻든 해당 값이 정답일 경우가 높기 때문에 그냥 1로 찍어줌"
      ],
      "metadata": {
        "id": "yGOiYztrN65J"
      }
    },
    {
      "cell_type": "code",
      "source": [
        "# 데이터 학습\n",
        "\n",
        "model.fit(train_images, train_labels, epochs=5, batch_size=128)"
      ],
      "metadata": {
        "colab": {
          "base_uri": "https://localhost:8080/"
        },
        "id": "WClFEUH9IrOa",
        "outputId": "20dd2655-4705-439a-e456-b84b0e4ae187"
      },
      "execution_count": null,
      "outputs": [
        {
          "output_type": "stream",
          "name": "stdout",
          "text": [
            "Epoch 1/5\n",
            "469/469 [==============================] - 6s 10ms/step - loss: 0.2842 - accuracy: 0.9205\n",
            "Epoch 2/5\n",
            "469/469 [==============================] - 3s 6ms/step - loss: 0.1238 - accuracy: 0.9635\n",
            "Epoch 3/5\n",
            "469/469 [==============================] - 3s 6ms/step - loss: 0.0851 - accuracy: 0.9746\n",
            "Epoch 4/5\n",
            "469/469 [==============================] - 3s 6ms/step - loss: 0.0631 - accuracy: 0.9811\n",
            "Epoch 5/5\n",
            "469/469 [==============================] - 3s 6ms/step - loss: 0.0495 - accuracy: 0.9849\n"
          ]
        },
        {
          "output_type": "execute_result",
          "data": {
            "text/plain": [
              "<keras.callbacks.History at 0x7fe641299110>"
            ]
          },
          "metadata": {},
          "execution_count": 16
        }
      ]
    },
    {
      "cell_type": "markdown",
      "source": [
        "epochs : 머신러닝은 데이터를 한번밖에 돌려보지 않는다. 때문에 epochs를 이용해 여러번 돌릴 수 있게 만듬.\n",
        "\n",
        "(너무 과하게 돌릴 경우 과적합 발생)\n",
        "\n",
        "---\n",
        "\n",
        "batch_size : 1번 모델을 훈련할 때 데이터의 양을 정해준다. 한번에 돌릴수도 있겠지만, 그렇다면 너무 오래 걸림. 이때 128개의 데이터는 랜덤으로 정해진다. 일반적으로 8~512개의 데이터 한번에 학습"
      ],
      "metadata": {
        "id": "1BDFtVw4O2nh"
      }
    },
    {
      "cell_type": "code",
      "source": [
        "# 예측\n",
        "\n",
        "test_loss, test_acc = model.evaluate(test_images, test_labels)\n",
        "print('test_acc:', test_acc)"
      ],
      "metadata": {
        "id": "H5dnvloGPEYw"
      },
      "execution_count": null,
      "outputs": []
    },
    {
      "cell_type": "code",
      "source": [
        ""
      ],
      "metadata": {
        "id": "Yn-HNZWeIrQN"
      },
      "execution_count": null,
      "outputs": []
    },
    {
      "cell_type": "code",
      "source": [
        ""
      ],
      "metadata": {
        "id": "_cuzAiJ9IrTR"
      },
      "execution_count": null,
      "outputs": []
    },
    {
      "cell_type": "code",
      "source": [
        ""
      ],
      "metadata": {
        "id": "Vc5xwnPJGIYw"
      },
      "execution_count": null,
      "outputs": []
    },
    {
      "cell_type": "code",
      "source": [
        "# 구글 드라이브 연결\n",
        "\n",
        "from google.colab import drive\n",
        "drive.mount('/content/drive')\n",
        "\n",
        "# 한글이 올바르게 나오게 하기 위해서는 런타임-런타임 다시시작을 눌러서 초기화 시켜주어야함"
      ],
      "metadata": {
        "id": "e_JaOW2JISPi",
        "colab": {
          "base_uri": "https://localhost:8080/"
        },
        "outputId": "6cf052e2-10bb-4a52-c9a5-e9b18bd9596a"
      },
      "execution_count": 2,
      "outputs": [
        {
          "output_type": "stream",
          "name": "stdout",
          "text": [
            "Mounted at /content/drive\n"
          ]
        }
      ]
    },
    {
      "cell_type": "code",
      "source": [
        "!git https://github.com/Jung-ha1/Big_Leader_AI_Academy.git"
      ],
      "metadata": {
        "colab": {
          "base_uri": "https://localhost:8080/"
        },
        "id": "sgtrcYtGul50",
        "outputId": "373cefd9-9ea3-44c9-8230-f07938b9a8d3"
      },
      "execution_count": 3,
      "outputs": [
        {
          "output_type": "stream",
          "name": "stdout",
          "text": [
            "git: 'https://github.com/Jung-ha1/Big_Leader_AI_Academy.git' is not a git command. See 'git --help'.\n"
          ]
        }
      ]
    },
    {
      "cell_type": "code",
      "source": [
        "!apt-get update\n",
        "!apt-get install g++ openjdk-8-jdk"
      ],
      "metadata": {
        "id": "B9X3Om2RISWR"
      },
      "execution_count": null,
      "outputs": []
    },
    {
      "cell_type": "code",
      "source": [
        "!pip install JPype1\n",
        "!pip install rhinoMorph"
      ],
      "metadata": {
        "id": "Jgb7CrY8ISbb"
      },
      "execution_count": null,
      "outputs": []
    },
    {
      "cell_type": "markdown",
      "source": [
        "#2. 딥러닝 이해"
      ],
      "metadata": {
        "id": "dlHkShEXHrTV"
      }
    },
    {
      "cell_type": "code",
      "source": [
        "# 구글 드라이브 연결\n",
        "\n",
        "from google.colab import drive\n",
        "drive.mount('/content/gdrive')\n",
        "\n",
        "# 한글이 올바르게 나오게 하기 위해서는 런타임-런타임 다시시작을 눌러서 초기화 시켜주어야함"
      ],
      "metadata": {
        "colab": {
          "base_uri": "https://localhost:8080/"
        },
        "id": "TuNzPEBQIUTU",
        "outputId": "a4d59817-63d5-41b3-fe4b-ff22186800cf"
      },
      "execution_count": 1,
      "outputs": [
        {
          "output_type": "stream",
          "name": "stdout",
          "text": [
            "Mounted at /content/gdrive\n"
          ]
        }
      ]
    },
    {
      "cell_type": "code",
      "source": [
        ""
      ],
      "metadata": {
        "id": "68uNOEjguMIu"
      },
      "execution_count": null,
      "outputs": []
    },
    {
      "cell_type": "code",
      "source": [
        "!apt-get update\n",
        "!apt-get install g++ openjdk-8-jdk"
      ],
      "metadata": {
        "id": "didy_V1UIUVK"
      },
      "execution_count": null,
      "outputs": []
    },
    {
      "cell_type": "code",
      "source": [
        "!pip install JPype1\n",
        "!pip install rhinoMorph"
      ],
      "metadata": {
        "id": "Oel9sXqaIUYE"
      },
      "execution_count": null,
      "outputs": []
    },
    {
      "cell_type": "markdown",
      "source": [
        "#3. 딥러닝 이진분류"
      ],
      "metadata": {
        "id": "AZ0NU6QjHrj9"
      }
    },
    {
      "cell_type": "code",
      "source": [
        "# 구글 드라이브 연결\n",
        "\n",
        "from google.colab import drive\n",
        "drive.mount('/content/gdrive')\n",
        "\n",
        "# 한글이 올바르게 나오게 하기 위해서는 런타임-런타임 다시시작을 눌러서 초기화 시켜주어야함"
      ],
      "metadata": {
        "id": "xFQqu1JXIL7N"
      },
      "execution_count": null,
      "outputs": []
    },
    {
      "cell_type": "code",
      "source": [
        "!apt-get update\n",
        "!apt-get install g++ openjdk-8-jdk"
      ],
      "metadata": {
        "id": "tofJHnXWIN67"
      },
      "execution_count": null,
      "outputs": []
    },
    {
      "cell_type": "code",
      "source": [
        "!pip install JPype1\n",
        "!pip install rhinoMorph"
      ],
      "metadata": {
        "colab": {
          "base_uri": "https://localhost:8080/"
        },
        "id": "g1fQVLxXIPpD",
        "outputId": "4cb1af2a-3d32-425e-dc01-54be91728075"
      },
      "execution_count": null,
      "outputs": [
        {
          "output_type": "stream",
          "name": "stdout",
          "text": [
            "Looking in indexes: https://pypi.org/simple, https://us-python.pkg.dev/colab-wheels/public/simple/\n",
            "Collecting JPype1\n",
            "  Downloading JPype1-1.4.0-cp37-cp37m-manylinux_2_5_x86_64.manylinux1_x86_64.whl (453 kB)\n",
            "\u001b[K     |████████████████████████████████| 453 kB 5.1 MB/s \n",
            "\u001b[?25hRequirement already satisfied: typing-extensions in /usr/local/lib/python3.7/dist-packages (from JPype1) (4.1.1)\n",
            "Installing collected packages: JPype1\n",
            "Successfully installed JPype1-1.4.0\n",
            "Looking in indexes: https://pypi.org/simple, https://us-python.pkg.dev/colab-wheels/public/simple/\n",
            "Collecting rhinoMorph\n",
            "  Downloading rhinoMorph-4.0.0.2-py3-none-any.whl (3.0 MB)\n",
            "\u001b[K     |████████████████████████████████| 3.0 MB 5.1 MB/s \n",
            "\u001b[?25hInstalling collected packages: rhinoMorph\n",
            "Successfully installed rhinoMorph-4.0.0.2\n"
          ]
        }
      ]
    },
    {
      "cell_type": "code",
      "source": [
        "def read_data(filename, encoding='cp949'):  # 읽기   함수   정의\n",
        "    with open(filename, 'r', encoding=encoding) as f:\n",
        "      data = [line.split('\\t') for line in f.read().splitlines()]\n",
        "      data = data[1:]\n",
        "    return data   # 첫   행은   헤더(id document label)일   수   있으므로   제외\n",
        "\n",
        "def write_data(data, filename, encoding='cp949'):         # 쓰기   함수   정의\n",
        "    with open(filename, 'w', encoding=encoding) as f:\n",
        "      f.write(data)\n",
        "data = read_data('ratings_morphed.txt' , encoding='cp949')\n",
        "\n",
        "print(type(data))\n",
        "print(len(data))\n",
        "print(len(data[0])) \n",
        "print(data[0])"
      ],
      "metadata": {
        "id": "jG6MBL0zHjb2"
      },
      "execution_count": null,
      "outputs": []
    },
    {
      "cell_type": "code",
      "source": [
        "# 데이터 줄이기\n",
        "import random\n",
        "import math\n",
        "import numpy as np\n",
        "\n",
        "random.shuffle(data)\n",
        "\n",
        "part_num = math.floor(len(data) * 1/3)\n",
        "data = data[:part_num]\n",
        "print(len(data))"
      ],
      "metadata": {
        "id": "7nHOUMj5H5us"
      },
      "execution_count": null,
      "outputs": []
    },
    {
      "cell_type": "code",
      "source": [
        "# 데이터 분리\n",
        "data_text = [line[1] for line in data]\n",
        "data_senti = [line[2] for line in data]\n",
        "\n",
        "from sklearn.model_selection import train_test_split\n",
        "train_data_text, test_data_text, train_data_senti, test_data_senti = train_test_split(data_te xt, data_senti, stratify=data_senti)"
      ],
      "metadata": {
        "id": "Z2T3rvysH5w1"
      },
      "execution_count": null,
      "outputs": []
    },
    {
      "cell_type": "code",
      "source": [
        "# 분리된 데이터 확인\n",
        "from collections import Counter\n",
        "\n",
        "train_data_senti_freq = Counter(train_data_senti)\n",
        "print('train_data_senti_freq:',train_data_senti_freq)\n",
        "\n",
        "test_data_senti_freq = Counter(test_data_senti)\n",
        "print('test_data_senti_freq:', test_data_senti_freq)"
      ],
      "metadata": {
        "id": "JqeAllP-IbxG"
      },
      "execution_count": null,
      "outputs": []
    },
    {
      "cell_type": "code",
      "source": [
        ""
      ],
      "metadata": {
        "id": "DSzOplkhIcDs"
      },
      "execution_count": null,
      "outputs": []
    },
    {
      "cell_type": "code",
      "source": [
        ""
      ],
      "metadata": {
        "id": "nXjMcdYoIcK4"
      },
      "execution_count": null,
      "outputs": []
    },
    {
      "cell_type": "code",
      "source": [
        "'''\n",
        "원핫인코딩을 하면 컬럼의 수가 정해지기 떄문에 굳이 문장의 길이를 자르지 않아도 된다.\n",
        "하지만 보통은 한다.\n",
        "'''"
      ],
      "metadata": {
        "id": "qU-ZDhAYH5y_"
      },
      "execution_count": null,
      "outputs": []
    },
    {
      "cell_type": "code",
      "source": [
        "# 훈련데이터에서 검증데이터 분리\n",
        "\n",
        "'''\n",
        "\n",
        "validation을 최적합 모델 결과로 쓰지 않는 이유\n",
        "validation은 몇번째 epoch가 가장 좋을지를 찾아주는 데이터이다.\n",
        "validation이 가진 독립변수를 모델이 가지고 있던 종속변수(아마 train 데이터?)와 비교를 해서\n",
        "최적의 epoch를 찾는다.\n",
        "문제점은 validation이 최적의 epoch를 찾을지라도 train data는 random이기 때문에 \n",
        "변화된 데이터에 따라 다른 epoch가 최적일 수도 있다.\n",
        "\n",
        "\n",
        "훈련을 통해 나온 모델을 test 데이터로 돌렸을 때 기존에 나왔던 확률과 조금 차이가 난다면,\n",
        "parameter를 만개가 아닌 오천개 처럼 좀 조절해준다.\n",
        "그런데 여기서 문제점은 해당 test에만 적용이 잘되는거지 다른 test 데이터를 가져왔을 경우 \n",
        "일반화가 어렵다.\n",
        "-> 때문에 test data는 한번만 쓰는 것이 좋다. (어떤 조합이 가장 좋은지)\n",
        "\n",
        "'''"
      ],
      "metadata": {
        "id": "XII_egdVH53B"
      },
      "execution_count": null,
      "outputs": []
    },
    {
      "cell_type": "markdown",
      "source": [
        "#8. 딥러닝 다중분류"
      ],
      "metadata": {
        "id": "scxL88YAhcdP"
      }
    },
    {
      "cell_type": "code",
      "source": [
        "# 구글 드라이브 연결\n",
        "\n",
        "from google.colab import drive\n",
        "drive.mount('/content/gdrive')\n",
        "\n",
        "# 한글이 올바르게 나오게 하기 위해서는 런타임-런타임 다시시작을 눌러서 초기화 시켜주어야함"
      ],
      "metadata": {
        "id": "tQscr88Ghbpd"
      },
      "execution_count": null,
      "outputs": []
    },
    {
      "cell_type": "code",
      "source": [
        "!apt-get update\n",
        "!apt-get install g++ openjdk-8-jdk"
      ],
      "metadata": {
        "id": "8QFMOkOchpS-"
      },
      "execution_count": null,
      "outputs": []
    },
    {
      "cell_type": "code",
      "source": [
        "!pip install JPype1\n",
        "!pip install rhinoMorph"
      ],
      "metadata": {
        "id": "dEeRUnYvhrth"
      },
      "execution_count": null,
      "outputs": []
    },
    {
      "cell_type": "code",
      "source": [
        "# 경로 설정\n",
        "chat_dir = '/content/gdrive/My Drive/pytest/chatbot/'\n",
        "\n",
        "# 읽기 함수 정의\n",
        "def read_data(filename, encoding='co949'):\n",
        "  with open(filename, 'r', encoding=encoding) as f:\n",
        "    data = [line.split('\\t') for line in f.read().splitlines()]\n",
        "    # 1로 한 이유는 값만 나오는 것이 아닌 label과 같이 어떤 값인지 알려주는 이름이 같이 출력되기 때문이다.\n",
        "    data = data[1:]\n",
        "  return data\n",
        "\n",
        "# 쓰기 함수 정의\n",
        "def write_data(data, filename, encoding='cp949'):\n",
        "  with open(filename, 'w', encoding=encoding) as f:\n",
        "    f.write(data)"
      ],
      "metadata": {
        "id": "tnM4rT99hvqY"
      },
      "execution_count": null,
      "outputs": []
    },
    {
      "cell_type": "code",
      "source": [
        "# 형태소 분석 준비\n",
        "\n",
        "import rhinoMorph\n",
        "rn = rhinoMorph.startRhino()    # 형태소분석기 기동\n",
        "\n",
        "data = read_data(chat_dir + 'data.txt', encoding='cp949')\n",
        "\n",
        "print('자료 타입: ', type(data))\n",
        "print('전체 문장수: ', len(data))\n",
        "print('형태소 분석 전 모습: ', data[:20])"
      ],
      "metadata": {
        "id": "vuT7Hzc6mQs3"
      },
      "execution_count": null,
      "outputs": []
    },
    {
      "cell_type": "markdown",
      "source": [
        "#9. 워드임베딩"
      ],
      "metadata": {
        "id": "RDWNDzERSQ9e"
      }
    },
    {
      "cell_type": "code",
      "source": [
        ""
      ],
      "metadata": {
        "id": "QOOJkh37SUn2"
      },
      "execution_count": null,
      "outputs": []
    }
  ]
}